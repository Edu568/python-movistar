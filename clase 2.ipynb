{
 "cells": [
  {
   "cell_type": "markdown",
   "id": "e1a3eb6e",
   "metadata": {},
   "source": [
    "<div class=\"alert alert-info text-center\">\n",
    "    <h2>Intro a Numpy</h2>\n",
    "</div>"
   ]
  },
  {
   "cell_type": "markdown",
   "id": "195453b5",
   "metadata": {},
   "source": [
    "### Introduccion a variables"
   ]
  },
  {
   "cell_type": "code",
   "execution_count": 15,
   "id": "1c4164da",
   "metadata": {},
   "outputs": [
    {
     "ename": "TypeError",
     "evalue": "unsupported operand type(s) for +: 'int' and 'str'",
     "output_type": "error",
     "traceback": [
      "\u001b[1;31m---------------------------------------------------------------------------\u001b[0m",
      "\u001b[1;31mTypeError\u001b[0m                                 Traceback (most recent call last)",
      "\u001b[1;32m~\\AppData\\Local\\Temp\\ipykernel_7320\\2276488839.py\u001b[0m in \u001b[0;36m<module>\u001b[1;34m\u001b[0m\n\u001b[0;32m      2\u001b[0m \u001b[0mvar2\u001b[0m \u001b[1;33m=\u001b[0m \u001b[1;34m'hola'\u001b[0m\u001b[1;33m\u001b[0m\u001b[1;33m\u001b[0m\u001b[0m\n\u001b[0;32m      3\u001b[0m \u001b[1;33m\u001b[0m\u001b[0m\n\u001b[1;32m----> 4\u001b[1;33m \u001b[0msuma\u001b[0m \u001b[1;33m=\u001b[0m \u001b[0mvar1\u001b[0m \u001b[1;33m+\u001b[0m \u001b[0mvar2\u001b[0m\u001b[1;33m\u001b[0m\u001b[1;33m\u001b[0m\u001b[0m\n\u001b[0m\u001b[0;32m      5\u001b[0m \u001b[0mprint\u001b[0m\u001b[1;33m(\u001b[0m\u001b[0msuma\u001b[0m\u001b[1;33m)\u001b[0m\u001b[1;33m\u001b[0m\u001b[1;33m\u001b[0m\u001b[0m\n",
      "\u001b[1;31mTypeError\u001b[0m: unsupported operand type(s) for +: 'int' and 'str'"
     ]
    }
   ],
   "source": [
    "var1 = 8\n",
    "var2 = 12\n",
    "\n",
    "suma = var1 + var2\n",
    "print(suma)"
   ]
  },
  {
   "cell_type": "code",
   "execution_count": 7,
   "id": "a1030560",
   "metadata": {},
   "outputs": [
    {
     "name": "stdout",
     "output_type": "stream",
     "text": [
      "8\n",
      "12\n"
     ]
    }
   ],
   "source": [
    "print(var1)\n",
    "print(var2)"
   ]
  },
  {
   "cell_type": "code",
   "execution_count": 11,
   "id": "db08425c",
   "metadata": {},
   "outputs": [
    {
     "name": "stdout",
     "output_type": "stream",
     "text": [
      "<class 'int'>\n"
     ]
    }
   ],
   "source": [
    "print(type(var2))"
   ]
  },
  {
   "cell_type": "code",
   "execution_count": 16,
   "id": "bc38cdff",
   "metadata": {},
   "outputs": [
    {
     "name": "stdout",
     "output_type": "stream",
     "text": [
      "<class 'str'>\n"
     ]
    }
   ],
   "source": [
    "print(type(var2))"
   ]
  },
  {
   "cell_type": "code",
   "execution_count": 17,
   "id": "025fb0e6",
   "metadata": {},
   "outputs": [
    {
     "name": "stdout",
     "output_type": "stream",
     "text": [
      "<class 'str'>\n"
     ]
    }
   ],
   "source": [
    "a = type(var2)\n",
    "print(a)"
   ]
  },
  {
   "cell_type": "markdown",
   "id": "e911f0e9",
   "metadata": {},
   "source": [
    "**Este es un texto en negrita**\n",
    "<br>\n",
    "*texto inclinado*\n",
    "<br>\n",
    "* opcion1\n",
    "* opcion2\n",
    "* opcion3"
   ]
  },
  {
   "cell_type": "code",
   "execution_count": 18,
   "id": "12c0484d",
   "metadata": {},
   "outputs": [
    {
     "name": "stdout",
     "output_type": "stream",
     "text": [
      "AND es verdadero solo si ambas expresiones son verdaderas: 5\n"
     ]
    }
   ],
   "source": [
    "a = 5\n",
    "b = 10\n",
    "print(\"AND es verdadero solo si ambas expresiones son verdaderas: {}\". format(a))"
   ]
  },
  {
   "cell_type": "code",
   "execution_count": 19,
   "id": "29203bfe",
   "metadata": {},
   "outputs": [
    {
     "name": "stdout",
     "output_type": "stream",
     "text": [
      "Ingrese la primer nota (entre 1 y 10): 2\n",
      "Ingrese la segunda nota (entre 1 y 10): 6\n",
      "Ingrese la tercer nota (entre 1 y 10): 4\n",
      "El alumno debe rendir final con un promedio de 4.0\n"
     ]
    }
   ],
   "source": [
    "# Pedir al usuario que ingrese las notas\n",
    "nota1 = int(input(\"Ingrese la primer nota (entre 1 y 10): \"))\n",
    "nota2 = int(input(\"Ingrese la segunda nota (entre 1 y 10): \"))\n",
    "nota3 = int(input(\"Ingrese la tercer nota (entre 1 y 10): \"))\n",
    "\n",
    "# Calcular el promedio\n",
    "promedio = (nota1 + nota2 + nota3) / 3\n",
    "\n",
    "# Determinar la situación del alumno en base al promedio\n",
    "if promedio >= 7:\n",
    "    print(\"El alumno promociona la materia con un promedio de\", promedio)\n",
    "elif promedio >= 4:\n",
    "    print(\"El alumno debe rendir final con un promedio de\", promedio)\n",
    "else:\n",
    "    print(\"El alumno recursa la materia con un promedio de\", promedio)"
   ]
  },
  {
   "cell_type": "code",
   "execution_count": null,
   "id": "6e7141b0",
   "metadata": {},
   "outputs": [],
   "source": []
  }
 ],
 "metadata": {
  "kernelspec": {
   "display_name": "Python 3 (ipykernel)",
   "language": "python",
   "name": "python3"
  },
  "language_info": {
   "codemirror_mode": {
    "name": "ipython",
    "version": 3
   },
   "file_extension": ".py",
   "mimetype": "text/x-python",
   "name": "python",
   "nbconvert_exporter": "python",
   "pygments_lexer": "ipython3",
   "version": "3.9.13"
  }
 },
 "nbformat": 4,
 "nbformat_minor": 5
}
