{
 "cells": [
  {
   "cell_type": "code",
   "execution_count": 1,
   "id": "fcb60797",
   "metadata": {},
   "outputs": [
    {
     "name": "stdout",
     "output_type": "stream",
     "text": [
      "Hello world\n"
     ]
    }
   ],
   "source": [
    "print(\"Hello world\")"
   ]
  },
  {
   "cell_type": "code",
   "execution_count": 2,
   "id": "3732d0e7",
   "metadata": {},
   "outputs": [],
   "source": [
    "nombre = \"lucas\""
   ]
  },
  {
   "cell_type": "code",
   "execution_count": 3,
   "id": "e5d00caf",
   "metadata": {},
   "outputs": [
    {
     "ename": "SyntaxError",
     "evalue": "invalid syntax (842649898.py, line 6)",
     "output_type": "error",
     "traceback": [
      "\u001b[1;36m  File \u001b[1;32m\"C:\\Users\\eduar\\AppData\\Local\\Temp\\ipykernel_4444\\842649898.py\"\u001b[1;36m, line \u001b[1;32m6\u001b[0m\n\u001b[1;33m    else print(\"El nombre es martin\")\u001b[0m\n\u001b[1;37m         ^\u001b[0m\n\u001b[1;31mSyntaxError\u001b[0m\u001b[1;31m:\u001b[0m invalid syntax\n"
     ]
    }
   ],
   "source": [
    "def saludo():\n",
    "    nombre1: \"Lucas\"\n",
    "    nombre2: \"Martin\"\n",
    "    if nombre1 == \"lucas\":\n",
    "        print(\"El nombre es lucas\")\n",
    "    else print(\"El nombre es martin\")"
   ]
  },
  {
   "cell_type": "code",
   "execution_count": 4,
   "id": "1c37ca2e",
   "metadata": {},
   "outputs": [
    {
     "ename": "SyntaxError",
     "evalue": "invalid syntax (842649898.py, line 6)",
     "output_type": "error",
     "traceback": [
      "\u001b[1;36m  File \u001b[1;32m\"C:\\Users\\eduar\\AppData\\Local\\Temp\\ipykernel_4444\\842649898.py\"\u001b[1;36m, line \u001b[1;32m6\u001b[0m\n\u001b[1;33m    else print(\"El nombre es martin\")\u001b[0m\n\u001b[1;37m         ^\u001b[0m\n\u001b[1;31mSyntaxError\u001b[0m\u001b[1;31m:\u001b[0m invalid syntax\n"
     ]
    }
   ],
   "source": [
    "def saludo():\n",
    "    nombre1: \"Lucas\"\n",
    "    nombre2: \"Martin\"\n",
    "    if nombre1 == \"lucas\":\n",
    "        print(\"El nombre es lucas\")\n",
    "    else print(\"El nombre es martin\")"
   ]
  },
  {
   "cell_type": "code",
   "execution_count": 5,
   "id": "49ec475c",
   "metadata": {},
   "outputs": [
    {
     "ename": "SyntaxError",
     "evalue": "invalid syntax (269872437.py, line 6)",
     "output_type": "error",
     "traceback": [
      "\u001b[1;36m  File \u001b[1;32m\"C:\\Users\\eduar\\AppData\\Local\\Temp\\ipykernel_4444\\269872437.py\"\u001b[1;36m, line \u001b[1;32m6\u001b[0m\n\u001b[1;33m    else print(\"El nombre es martin\")\u001b[0m\n\u001b[1;37m         ^\u001b[0m\n\u001b[1;31mSyntaxError\u001b[0m\u001b[1;31m:\u001b[0m invalid syntax\n"
     ]
    }
   ],
   "source": [
    "def saludo():\n",
    "    nombre1: \"Lucas\"\n",
    "    nombre2: \"Martin\"\n",
    "    if nombre1 == \"lucas\":\n",
    "        print(\"El nombre es lucas\")\n",
    "    else print(\"El nombre es martin\")\n",
    "    \n",
    "    saludo(nombre1)"
   ]
  },
  {
   "cell_type": "code",
   "execution_count": null,
   "id": "75da6282",
   "metadata": {},
   "outputs": [],
   "source": []
  }
 ],
 "metadata": {
  "kernelspec": {
   "display_name": "Python 3 (ipykernel)",
   "language": "python",
   "name": "python3"
  },
  "language_info": {
   "codemirror_mode": {
    "name": "ipython",
    "version": 3
   },
   "file_extension": ".py",
   "mimetype": "text/x-python",
   "name": "python",
   "nbconvert_exporter": "python",
   "pygments_lexer": "ipython3",
   "version": "3.9.13"
  }
 },
 "nbformat": 4,
 "nbformat_minor": 5
}
