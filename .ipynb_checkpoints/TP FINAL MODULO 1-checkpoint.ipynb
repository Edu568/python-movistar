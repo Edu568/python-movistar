{
 "cells": [
  {
   "cell_type": "code",
   "execution_count": 2,
   "id": "4f180763",
   "metadata": {},
   "outputs": [
    {
     "name": "stdout",
     "output_type": "stream",
     "text": [
      "Ingrese la primer nota (entre 1 y 10): 7\n",
      "Ingrese la segunda nota (entre 1 y 10): 10\n",
      "Ingrese la tercer nota (entre 1 y 10): 8\n",
      "El alumno promociona la materia con un promedio de 8.333333333333334\n"
     ]
    }
   ],
   "source": [
    "\n",
    "nota1 = int(input(\"Ingrese la primer nota (entre 1 y 10): \"))\n",
    "nota2 = int(input(\"Ingrese la segunda nota (entre 1 y 10): \"))\n",
    "nota3 = int(input(\"Ingrese la tercer nota (entre 1 y 10): \"))\n",
    "\n",
    "\n",
    "promedio = (nota1 + nota2 + nota3) / 3\n",
    "\n",
    "\n",
    "if promedio >= 7:\n",
    "    print(\"El alumno promociona la materia con un promedio de\", promedio)\n",
    "elif promedio >= 4:\n",
    "    print(\"El alumno debe rendir final con un promedio de\", promedio)\n",
    "else:\n",
    "    print(\"El alumno recursa la materia con un promedio de\", promedio)"
   ]
  },
  {
   "cell_type": "code",
   "execution_count": null,
   "id": "a2087ad7",
   "metadata": {},
   "outputs": [],
   "source": []
  },
  {
   "cell_type": "code",
   "execution_count": null,
   "id": "97c967f0",
   "metadata": {},
   "outputs": [],
   "source": []
  }
 ],
 "metadata": {
  "kernelspec": {
   "display_name": "Python 3 (ipykernel)",
   "language": "python",
   "name": "python3"
  },
  "language_info": {
   "codemirror_mode": {
    "name": "ipython",
    "version": 3
   },
   "file_extension": ".py",
   "mimetype": "text/x-python",
   "name": "python",
   "nbconvert_exporter": "python",
   "pygments_lexer": "ipython3",
   "version": "3.9.13"
  }
 },
 "nbformat": 4,
 "nbformat_minor": 5
}
