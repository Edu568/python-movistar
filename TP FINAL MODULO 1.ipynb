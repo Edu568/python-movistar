{
 "cells": [
  {
   "cell_type": "code",
   "execution_count": 3,
   "id": "5ab7a683",
   "metadata": {},
   "outputs": [
    {
     "ename": "SyntaxError",
     "evalue": "EOL while scanning string literal (4122460934.py, line 1)",
     "output_type": "error",
     "traceback": [
      "\u001b[1;36m  File \u001b[1;32m\"C:\\Users\\eduar\\AppData\\Local\\Temp\\ipykernel_25432\\4122460934.py\"\u001b[1;36m, line \u001b[1;32m1\u001b[0m\n\u001b[1;33m    nota1 = int(input(\"Ingrese la primer nota (entre 1 y 10): ))\u001b[0m\n\u001b[1;37m                                                                ^\u001b[0m\n\u001b[1;31mSyntaxError\u001b[0m\u001b[1;31m:\u001b[0m EOL while scanning string literal\n"
     ]
    }
   ],
   "source": [
    "\n",
    "nota1 = int(input(\"Ingrese la primer nota (entre 1 y 10): ))\n",
    "nota2 = int(input(\"Ingrese la segunda nota (entre 1 y 10): ))\n",
    "nota3 = int(input(\"Ingrese la tercer nota (entre 1 y 10): ))\n",
    "\n",
    "\n",
    "promedio = (nota1 + nota2 + nota3) / 3\n",
    "\n",
    "\n",
    "if promedio >= 7:\n",
    "    print(\"El alumno promociona la materia con un promedio de\", promedio)\n",
    "elif promedio >= 4:\n",
    "    print(\"El alumno debe rendir final con un promedio de\", promedio)\n",
    "else:\n",
    "    print(\"El alumno recursa la materia con un promedio de\", promedio)"
   ]
  },
  {
   "cell_type": "code",
   "execution_count": 4,
   "id": "75c25d8f",
   "metadata": {},
   "outputs": [
    {
     "name": "stdout",
     "output_type": "stream",
     "text": [
      "Ingrese la primer nota (entre 1 y 10): 11\n",
      "Ingrese la segunda nota (entre 1 y 10): 6\n",
      "Ingrese la tercer nota (entre 1 y 10): ssd\n"
     ]
    },
    {
     "ename": "TypeError",
     "evalue": "unsupported operand type(s) for /: 'str' and 'int'",
     "output_type": "error",
     "traceback": [
      "\u001b[1;31m---------------------------------------------------------------------------\u001b[0m",
      "\u001b[1;31mTypeError\u001b[0m                                 Traceback (most recent call last)",
      "\u001b[1;32m~\\AppData\\Local\\Temp\\ipykernel_3136\\2330416292.py\u001b[0m in \u001b[0;36m<module>\u001b[1;34m\u001b[0m\n\u001b[0;32m      4\u001b[0m \u001b[1;33m\u001b[0m\u001b[0m\n\u001b[0;32m      5\u001b[0m \u001b[1;33m\u001b[0m\u001b[0m\n\u001b[1;32m----> 6\u001b[1;33m \u001b[0mpromedio\u001b[0m \u001b[1;33m=\u001b[0m \u001b[1;33m(\u001b[0m\u001b[0mnota1\u001b[0m \u001b[1;33m+\u001b[0m \u001b[0mnota2\u001b[0m \u001b[1;33m+\u001b[0m \u001b[0mnota3\u001b[0m\u001b[1;33m)\u001b[0m \u001b[1;33m/\u001b[0m \u001b[1;36m3\u001b[0m\u001b[1;33m\u001b[0m\u001b[1;33m\u001b[0m\u001b[0m\n\u001b[0m\u001b[0;32m      7\u001b[0m \u001b[1;33m\u001b[0m\u001b[0m\n\u001b[0;32m      8\u001b[0m \u001b[0mnota1\u001b[0m \u001b[1;33m=\u001b[0m \u001b[0minput\u001b[0m\u001b[1;33m(\u001b[0m\u001b[1;34m\"Ingrese la primer nota (entre 1 y 10): \"\u001b[0m\u001b[1;33m)\u001b[0m\u001b[1;33m\u001b[0m\u001b[1;33m\u001b[0m\u001b[0m\n",
      "\u001b[1;31mTypeError\u001b[0m: unsupported operand type(s) for /: 'str' and 'int'"
     ]
    }
   ],
   "source": [
    "nota1 = input(\"Ingrese la primer nota (entre 1 y 10): \")\n",
    "nota2 = input(\"Ingrese la segunda nota (entre 1 y 10): \")\n",
    "nota3 = input(\"Ingrese la tercer nota (entre 1 y 10): \")\n",
    "\n",
    "\n",
    "promedio = (nota1 + nota2 + nota3) / 3\n",
    "\n",
    "nota1 = input(\"Ingrese la primer nota (entre 1 y 10): \")\n",
    "lista_dato = ['1','2','3','4','5','6','7','8','9','10']\n",
    "if nota1 in lista_dato:\n",
    "    nota1 = int(nota1) \n",
    "else:\n",
    "    print(\"El dato ingresado no es correcto\") \n",
    "    nota1 = input(\"Ingrese la primer nota (entre 1 y 10): \")\n",
    "    nota1 = int(nota1)\n",
    "\n",
    "nota2 = input(\"Ingrese la segunda nota (entre 1 y 10): \")\n",
    "if nota2 in lista_dato:\n",
    "    nota2 = int(nota2) \n",
    "else:\n",
    "    print(\"El dato ingresado no es correcto\") \n",
    "    nota2 = input(\"Ingrese la segunda nota (entre 1 y 10): \")\n",
    "    nota2 = int(nota2)\n",
    "\n",
    "nota3 = input(\"Ingrese la tercer nota (entre 1 y 10): \")\n",
    "if nota3 in lista_dato:\n",
    "    nota3 = int(nota3) \n",
    "else:\n",
    "    print(\"El dato ingresado no es correcto\") \n",
    "    nota3 = input(\"Ingrese la tercer nota (entre 1 y 10): \")\n",
    "    nota3 = int(nota3)"
   ]
  },
  {
   "cell_type": "code",
   "execution_count": null,
   "id": "fc105fe1",
   "metadata": {},
   "outputs": [
    {
     "name": "stdout",
     "output_type": "stream",
     "text": [
      "Ingrese la primer nota (entre 1 y 10): 12\n",
      "El dato ingresado no es correcto\n"
     ]
    }
   ],
   "source": [
    "nota1 = input(\"Ingrese la primer nota (entre 1 y 10): \")\n",
    "lista_dato = ['1','2','3','4','5','6','7','8','9','10']\n",
    "if nota1 in lista_dato:\n",
    "    nota1 = int(nota1) \n",
    "else:\n",
    "    print(\"El dato ingresado no es correcto\") \n",
    "    nota1 = input(\"Ingrese la primer nota (entre 1 y 10): \")\n",
    "    nota1 = int(nota1)\n",
    "\n",
    "nota2 = input(\"Ingrese la segunda nota (entre 1 y 10): \")\n",
    "if nota2 in lista_dato:\n",
    "    nota2 = int(nota2) \n",
    "else:\n",
    "    print(\"El dato ingresado no es correcto\") \n",
    "    nota2 = input(\"Ingrese la segunda nota (entre 1 y 10): \")\n",
    "    nota2 = int(nota2)\n",
    "\n",
    "nota3 = input(\"Ingrese la tercer nota (entre 1 y 10): \")\n",
    "if nota3 in lista_dato:\n",
    "    nota3 = int(nota3) \n",
    "else:\n",
    "    print(\"El dato ingresado no es correcto\") \n",
    "    nota3 = input(\"Ingrese la tercer nota (entre 1 y 10): \")\n",
    "    nota3 = int(nota3)\n",
    "\n",
    "promedio = (nota1 + nota2 + nota3) / 3\n",
    "\n",
    "\n",
    "if promedio >= 7:\n",
    "    print(\"El alumno promociona la materia con un promedio de\", promedio)\n",
    "elif promedio >= 4:\n",
    "    print(\"El alumno debe rendir final con un promedio de\", promedio)\n",
    "else:\n",
    "    print(\"El alumno recursa la materia con un promedio de\", promedio)"
   ]
  },
  {
   "cell_type": "code",
   "execution_count": null,
   "id": "4d174c9c",
   "metadata": {},
   "outputs": [],
   "source": []
  }
 ],
 "metadata": {
  "kernelspec": {
   "display_name": "Python 3 (ipykernel)",
   "language": "python",
   "name": "python3"
  },
  "language_info": {
   "codemirror_mode": {
    "name": "ipython",
    "version": 3
   },
   "file_extension": ".py",
   "mimetype": "text/x-python",
   "name": "python",
   "nbconvert_exporter": "python",
   "pygments_lexer": "ipython3",
   "version": "3.9.13"
  }
 },
 "nbformat": 4,
 "nbformat_minor": 5
}
