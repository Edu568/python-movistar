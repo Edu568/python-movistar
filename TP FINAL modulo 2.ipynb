{
 "cells": [
  {
   "cell_type": "code",
   "execution_count": 5,
   "id": "a5d69bf7",
   "metadata": {},
   "outputs": [
    {
     "name": "stdout",
     "output_type": "stream",
     "text": [
      "Ingrese un número entero positivo: 2\n",
      "2 es un número primo.\n"
     ]
    }
   ],
   "source": [
    "def numPrimo(num):\n",
    "    if num < 2:\n",
    "        return False\n",
    "    for i in range(2, int(num**0.5)+1):\n",
    "        if num % i == 0:\n",
    "            return False\n",
    "    return True\n",
    "while True:\n",
    "    try:\n",
    "        num = int(input(\"Ingrese un número entero positivo: \"))\n",
    "        if num < 1:\n",
    "            print(\"El número debe ser positivo.\")\n",
    "        else:\n",
    "            break\n",
    "    except ValueError:\n",
    "        print(\"Debe ingresar un número entero.\")\n",
    "\n",
    "if numPrimo(num):\n",
    "    print(f\"{num} es un número primo.\")\n",
    "else:\n",
    "    print(f\"{num} no es un número primo.\")"
   ]
  },
  {
   "cell_type": "code",
   "execution_count": null,
   "id": "d0059599",
   "metadata": {},
   "outputs": [],
   "source": []
  },
  {
   "cell_type": "code",
   "execution_count": null,
   "id": "24688a8d",
   "metadata": {},
   "outputs": [],
   "source": []
  }
 ],
 "metadata": {
  "kernelspec": {
   "display_name": "Python 3 (ipykernel)",
   "language": "python",
   "name": "python3"
  },
  "language_info": {
   "codemirror_mode": {
    "name": "ipython",
    "version": 3
   },
   "file_extension": ".py",
   "mimetype": "text/x-python",
   "name": "python",
   "nbconvert_exporter": "python",
   "pygments_lexer": "ipython3",
   "version": "3.9.13"
  }
 },
 "nbformat": 4,
 "nbformat_minor": 5
}
