{
 "cells": [
  {
   "cell_type": "code",
   "execution_count": null,
   "id": "5a3f1b47",
   "metadata": {},
   "outputs": [],
   "source": [
    "class alumno:\n",
    "    def __init__(self):\n",
    "        self.nombre = input(\"nombre: \")\n",
    "        self.apellido = input(\"apellido: \")\n",
    "        self.nota = []\n",
    "    \n",
    "        while True:\n",
    "            notas = float(input(\"Ingrese nota o tecla 0 para salir: \"))\n",
    "            if notas == 0:\n",
    "                break\n",
    "            elif notas < 1 or notas > 10:\n",
    "                print(\"Pusiste mal la nota. Solo entre 1 o 10.\")\n",
    "            else:\n",
    "                self.nota.append(nota)\n",
    "            \n",
    "    def __str__(self):\n",
    "        promedio = sum(self.nota) / len(self.nota)\n",
    "        if promedio >= 7:\n",
    "            estado = \"El alumno promociona la materia\"\n",
    "        elif promedio >= 4:\n",
    "            estado = \n",
    "            print(\"El alumno debe rendir final \")\n",
    "        else:\n",
    "            print(\"El alumno recursa la materia\")\n",
    "            \n",
    "        return f\"Nombre: {self.nombre}\\nApellido: {self.apellido}\\nPromedio: {promedio:}\\nEstado: {estado}\"\n",
    "\n",
    "              \n",
    "alumno1 = alumno()\n",
    "print(alumno1)"
   ]
  },
  {
   "cell_type": "code",
   "execution_count": null,
   "id": "2c5829b9",
   "metadata": {},
   "outputs": [],
   "source": []
  }
 ],
 "metadata": {
  "kernelspec": {
   "display_name": "Python 3 (ipykernel)",
   "language": "python",
   "name": "python3"
  },
  "language_info": {
   "codemirror_mode": {
    "name": "ipython",
    "version": 3
   },
   "file_extension": ".py",
   "mimetype": "text/x-python",
   "name": "python",
   "nbconvert_exporter": "python",
   "pygments_lexer": "ipython3",
   "version": "3.9.13"
  }
 },
 "nbformat": 4,
 "nbformat_minor": 5
}
