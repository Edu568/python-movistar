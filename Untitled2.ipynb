{
 "cells": [
  {
   "cell_type": "code",
   "execution_count": 6,
   "id": "eac3060c",
   "metadata": {},
   "outputs": [
    {
     "name": "stdout",
     "output_type": "stream",
     "text": [
      "nombre: Lucas\n",
      "apellido: Marticorena\n",
      "Ingrese nota o tecla 0 para salir: 5\n"
     ]
    },
    {
     "ename": "NameError",
     "evalue": "name 'nota' is not defined",
     "output_type": "error",
     "traceback": [
      "\u001b[1;31m---------------------------------------------------------------------------\u001b[0m",
      "\u001b[1;31mNameError\u001b[0m                                 Traceback (most recent call last)",
      "\u001b[1;32m~\\AppData\\Local\\Temp\\ipykernel_7268\\1563662477.py\u001b[0m in \u001b[0;36m<module>\u001b[1;34m\u001b[0m\n\u001b[0;32m     25\u001b[0m         \u001b[1;32mreturn\u001b[0m \u001b[1;34mf\"Nombre: {self.nombre}\\nApellido: {self.apellido}\\nPromedio: {promedio:}\\nSituacion: {situacion}\"\u001b[0m\u001b[1;33m\u001b[0m\u001b[1;33m\u001b[0m\u001b[0m\n\u001b[0;32m     26\u001b[0m \u001b[1;33m\u001b[0m\u001b[0m\n\u001b[1;32m---> 27\u001b[1;33m \u001b[0mestudiante\u001b[0m \u001b[1;33m=\u001b[0m \u001b[0mAlumno\u001b[0m\u001b[1;33m(\u001b[0m\u001b[1;33m)\u001b[0m\u001b[1;33m\u001b[0m\u001b[1;33m\u001b[0m\u001b[0m\n\u001b[0m\u001b[0;32m     28\u001b[0m \u001b[0mprint\u001b[0m\u001b[1;33m(\u001b[0m\u001b[0mAlumno\u001b[0m\u001b[1;33m)\u001b[0m\u001b[1;33m\u001b[0m\u001b[1;33m\u001b[0m\u001b[0m\n",
      "\u001b[1;32m~\\AppData\\Local\\Temp\\ipykernel_7268\\1563662477.py\u001b[0m in \u001b[0;36m__init__\u001b[1;34m(self)\u001b[0m\n\u001b[0;32m     12\u001b[0m                 \u001b[0mprint\u001b[0m\u001b[1;33m(\u001b[0m\u001b[1;34m\"Pusiste mal la nota. Solo entre 1 o 10.\"\u001b[0m\u001b[1;33m)\u001b[0m\u001b[1;33m\u001b[0m\u001b[1;33m\u001b[0m\u001b[0m\n\u001b[0;32m     13\u001b[0m             \u001b[1;32melse\u001b[0m\u001b[1;33m:\u001b[0m\u001b[1;33m\u001b[0m\u001b[1;33m\u001b[0m\u001b[0m\n\u001b[1;32m---> 14\u001b[1;33m                 \u001b[0mself\u001b[0m\u001b[1;33m.\u001b[0m\u001b[0mnota\u001b[0m\u001b[1;33m.\u001b[0m\u001b[0mappend\u001b[0m\u001b[1;33m(\u001b[0m\u001b[0mnota\u001b[0m\u001b[1;33m)\u001b[0m\u001b[1;33m\u001b[0m\u001b[1;33m\u001b[0m\u001b[0m\n\u001b[0m\u001b[0;32m     15\u001b[0m \u001b[1;33m\u001b[0m\u001b[0m\n\u001b[0;32m     16\u001b[0m     \u001b[1;32mdef\u001b[0m \u001b[0m__str__\u001b[0m\u001b[1;33m(\u001b[0m\u001b[0mself\u001b[0m\u001b[1;33m)\u001b[0m\u001b[1;33m:\u001b[0m\u001b[1;33m\u001b[0m\u001b[1;33m\u001b[0m\u001b[0m\n",
      "\u001b[1;31mNameError\u001b[0m: name 'nota' is not defined"
     ]
    }
   ],
   "source": [
    "class Alumno:\n",
    "    def __init__(self):\n",
    "        self.nombre = input(\"nombre: \")\n",
    "        self.apellido = input(\"apellido: \")\n",
    "        self.nota = []\n",
    "    \n",
    "        while True:\n",
    "            notas = float(input(\"Ingrese nota o tecla 0 para salir: \"))\n",
    "            if notas == 0:\n",
    "                break\n",
    "            elif notas < 1 or notas > 10:\n",
    "                print(\"Pusiste mal la nota. Solo entre 1 o 10.\")\n",
    "            else:\n",
    "                self.nota.append(nota)\n",
    "            \n",
    "    def __str__(self):\n",
    "        promedio = sum(self.nota) / len(self.nota) if len(self.nota) > 0 else 0\n",
    "        if promedio >= 7:\n",
    "            situacion = \"El alumno promociona la materia\"\n",
    "        elif promedi < 4:\n",
    "            situacion = \"El alumno debe rendir final\"\n",
    "        else:\n",
    "            situacion = \"recursa\"\n",
    "            \n",
    "        return f\"Nombre: {self.nombre}\\nApellido: {self.apellido}\\nPromedio: {promedio:}\\nSituacion: {situacion}\"\n",
    "\n",
    "estudiante = Alumno()\n",
    "print(Alumno)"
   ]
  },
  {
   "cell_type": "code",
   "execution_count": null,
   "id": "0e1a3980",
   "metadata": {},
   "outputs": [],
   "source": []
  }
 ],
 "metadata": {
  "kernelspec": {
   "display_name": "Python 3 (ipykernel)",
   "language": "python",
   "name": "python3"
  },
  "language_info": {
   "codemirror_mode": {
    "name": "ipython",
    "version": 3
   },
   "file_extension": ".py",
   "mimetype": "text/x-python",
   "name": "python",
   "nbconvert_exporter": "python",
   "pygments_lexer": "ipython3",
   "version": "3.9.13"
  }
 },
 "nbformat": 4,
 "nbformat_minor": 5
}
