{
 "cells": [
  {
   "cell_type": "code",
   "execution_count": 4,
   "id": "663d147b",
   "metadata": {},
   "outputs": [
    {
     "name": "stdout",
     "output_type": "stream",
     "text": [
      "Ingrese el nombre del alumno: Lucas\n",
      "Ingrese el apellido del alumno: Monsores\n",
      "Ingrese una nota (0 para salir): 5\n",
      "Ingrese una nota (0 para salir): 6\n",
      "Ingrese una nota (0 para salir): 9\n",
      "Ingrese una nota (0 para salir): 0\n",
      "Nombre: Lucas\n",
      "Apellido: Monsores\n",
      "Promedio: 6.67\n",
      "Estado: Final\n"
     ]
    }
   ],
   "source": [
    "class Alumno:\n",
    "    def __init__(self):\n",
    "        self.nombre = input(\"Ingrese el nombre del alumno: \")\n",
    "        self.apellido = input(\"Ingrese el apellido del alumno: \")\n",
    "        self.notas = []\n",
    "        \n",
    "        while True:\n",
    "            nota = float(input(\"Ingrese una nota (0 para salir): \"))\n",
    "            if nota == 0:\n",
    "                break\n",
    "            elif nota < 1 or nota > 10:\n",
    "                print(\"Error: la nota debe estar entre 1 y 10.\")\n",
    "            else:\n",
    "                self.notas.append(nota)\n",
    "    \n",
    "\n",
    "    def __str__(self):\n",
    "        promedio = sum(self.notas) / len(self.notas) if len(self.notas) > 0 else 0\n",
    "        if promedio >= 7:\n",
    "            estado = \"Promociona\"\n",
    "        elif promedio >= 4:\n",
    "            estado = \"Final\"\n",
    "        else:\n",
    "            estado = \"Recursa\"\n",
    "        return f\"Nombre: {self.nombre}\\nApellido: {self.apellido}\\nPromedio: {promedio:.2f}\\nEstado: {estado}\"\n",
    "    \n",
    "\n",
    "alumno1 = Alumno()\n",
    "print(alumno1)"
   ]
  },
  {
   "cell_type": "code",
   "execution_count": 2,
   "id": "ecaae9a1",
   "metadata": {},
   "outputs": [
    {
     "name": "stdout",
     "output_type": "stream",
     "text": [
      "[1, 2, 3, 4, 5, 6, 7, 8, 9, 10, 11, 12, 13, 14, 15, 16, 17, 18, 19, 20, 21, 22, 23, 24, 25, 26, 27, 28, 29, 30, 31, 32, 33, 34, 35, 36, 37, 38, 39, 40, 41, 42, 43, 44, 45, 46, 47, 48, 49, 50, 51, 52, 53, 54, 55, 56, 57, 58, 59, 60, 61, 62, 63, 64, 65, 66, 67, 68, 69, 70, 71, 72, 73, 74, 75, 76, 77, 78, 79, 80, 81, 82, 83, 84, 85, 86, 87, 88, 89, 90, 91, 92, 93, 94, 95, 96, 97, 98, 99, 100]\n"
     ]
    }
   ],
   "source": [
    "num = []\n",
    "for i in range(1, 101):\n",
    "    num.append(i)\n",
    "print(num)"
   ]
  },
  {
   "cell_type": "code",
   "execution_count": 3,
   "id": "764c8d26",
   "metadata": {},
   "outputs": [
    {
     "name": "stdout",
     "output_type": "stream",
     "text": [
      "[10, 20, 30, 40, 50, 60, 70, 80, 90, 100]\n"
     ]
    }
   ],
   "source": [
    "numeroPar = list(filter(lambda x: x % 2 == 0 and x % 5 == 0, numeros))\n",
    "\n",
    "print(numeroPar)\n"
   ]
  },
  {
   "cell_type": "code",
   "execution_count": null,
   "id": "fb78cdbb",
   "metadata": {},
   "outputs": [],
   "source": []
  }
 ],
 "metadata": {
  "kernelspec": {
   "display_name": "Python 3 (ipykernel)",
   "language": "python",
   "name": "python3"
  },
  "language_info": {
   "codemirror_mode": {
    "name": "ipython",
    "version": 3
   },
   "file_extension": ".py",
   "mimetype": "text/x-python",
   "name": "python",
   "nbconvert_exporter": "python",
   "pygments_lexer": "ipython3",
   "version": "3.9.13"
  }
 },
 "nbformat": 4,
 "nbformat_minor": 5
}
